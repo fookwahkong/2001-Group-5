{
 "cells": [
  {
   "cell_type": "markdown",
   "id": "68c6473d",
   "metadata": {},
   "source": [
    "# **Project 2: The Dijkstra's Algorithm**\n",
    "\n",
    "| **Group Member** | **Matriculation Number** |\n",
    "|---------|-------|\n",
    "| Jyoshika Barathimogan | |\n",
    "| Kong Fook Wah | U2421655E |\n",
    "| Kris Khor Hai Xiang | U2421377C |"
   ]
  },
  {
   "cell_type": "markdown",
   "id": "38c78f1f",
   "metadata": {},
   "source": [
    "## **Table of Content**\n",
    "\n",
    "- [Background]\n",
    "- [Purpose]\n",
    "- [Implementation]\n",
    "- [Result]\n",
    "- [Conclusion]\n"
   ]
  },
  {
   "cell_type": "markdown",
   "id": "10db682c",
   "metadata": {},
   "source": [
    "## Purpose of Project 2\n",
    "\n",
    "This project aims to determine how the choice representations for input graph and priority queue will affect the time complexity of Dijkstra's Algorithm."
   ]
  },
  {
   "cell_type": "markdown",
   "id": "cf57950a",
   "metadata": {},
   "source": [
    "## **Sequence of Build**\n",
    "\n",
    "### 1. Reproducibility and Constant Variables \n",
    "Set up the environment to ensure results are reproducible, including defining all constant variables\n",
    "\n",
    "### 2. Implementation of Dijkstra's Algorithm\n",
    "Develop a Dijkstra's Algorithm that finds shortest paths in an input graph\n",
    "\n",
    "### 3. Generation of Graph for Analysis \n",
    "Generate test graphs with weight `w ∈ {1 , ... , 20}`\n",
    "\n"
   ]
  },
  {
   "cell_type": "markdown",
   "id": "91fccb11",
   "metadata": {},
   "source": [
    "## **1. Reproducibility & Constant Variable**"
   ]
  },
  {
   "cell_type": "code",
   "execution_count": null,
   "id": "46b2a699",
   "metadata": {},
   "outputs": [],
   "source": [
    "import heapq\n",
    "import random\n",
    "import networkx as nx\n",
    "import matplotlib.pyplot as plt\n",
    "import time\n",
    "\n",
    "INF = float('inf')"
   ]
  },
  {
   "cell_type": "markdown",
   "id": "e546c557",
   "metadata": {},
   "source": [
    "## Generate adjacency lists Graph"
   ]
  },
  {
   "cell_type": "code",
   "execution_count": null,
   "id": "36c2ab6c",
   "metadata": {},
   "outputs": [],
   "source": [
    "def generateAdjacencyListsGraph(size, density=0.5, wmin=1, wmax=20):\n",
    "    graph = [[] for _ in range(size)]\n",
    "\n",
    "    for i in range(size):\n",
    "        for j in range(i+1, size):\n",
    "            if random.random() < density:   #to ensure complete randomness on whether the edge exists, without this, every vertices will be connected\n",
    "                w = random.randint(wmin, wmax)\n",
    "                graph[i].append((j, w))\n",
    "                graph[j].append((i, w))\n",
    "\n",
    "    #To ensure every vertex has at least one edge (to prevent unreachable vertex situation)\n",
    "\n",
    "    for i in range(size):\n",
    "        if not graph[i]:                                             # if the particular vertex has no edge\n",
    "            j = random.choice([x for x in range(size) if x != i])    #choose a random vertex to connect with that vertex\n",
    "            w = random.randint(wmin, wmax)\n",
    "            graph[i].append((j, w))\n",
    "            graph[j].append((i, w))\n",
    "\n",
    "    return graph"
   ]
  },
  {
   "cell_type": "markdown",
   "id": "4619c609",
   "metadata": {},
   "source": [
    "## Visualise Graph"
   ]
  },
  {
   "cell_type": "code",
   "execution_count": null,
   "id": "0afa5072",
   "metadata": {},
   "outputs": [],
   "source": [
    "\n",
    "def visualiseGraph(graph):\n",
    "    G = nx.Graph()\n",
    "\n",
    "    for u in range(len(graph)):\n",
    "        for v, w in graph[u]:\n",
    "            if u < v:\n",
    "                G.add_edge(u, v, weight=w)\n",
    "\n",
    "    pos = nx.spring_layout(G, seed=42)\n",
    "\n",
    "    plt.figure(figsize=(6, 6))\n",
    "    nx.draw(G, pos, with_labels=True, node_color='skyblue', node_size=1500,\n",
    "            edge_color='gray', font_size=10, font_weight='bold')\n",
    "\n",
    "    edge_labels = nx.get_edge_attributes(G, 'weight')\n",
    "    nx.draw_networkx_edge_labels(G, pos, edge_labels=edge_labels)\n",
    "\n",
    "    plt.show()\n"
   ]
  },
  {
   "cell_type": "markdown",
   "id": "931d0cba",
   "metadata": {},
   "source": [
    "## Priority Queue with Min-Heap"
   ]
  },
  {
   "cell_type": "code",
   "execution_count": null,
   "id": "f80b5d7b",
   "metadata": {},
   "outputs": [],
   "source": [
    "class PriorityQueueMinHeap:\n",
    "    def __init__(self):\n",
    "        self.queue = []\n",
    "        heapq.heapify(self.queue)\n",
    "        \n",
    "    def __len__(self):\n",
    "        return len(self.queue)\n",
    "    \n",
    "    def push(self, item):\n",
    "        heapq.heappush(self.queue, item)\n",
    "\n",
    "    def pop(self):\n",
    "        shortest = heapq.heappop(self.queue)\n",
    "        return shortest"
   ]
  },
  {
   "cell_type": "markdown",
   "id": "0c77789c",
   "metadata": {},
   "source": [
    "## Dijkstra Algorithm"
   ]
  },
  {
   "cell_type": "code",
   "execution_count": null,
   "id": "33e036a7",
   "metadata": {},
   "outputs": [],
   "source": [
    "def dijkstraAlgorithm(graph):\n",
    "\n",
    "    pq = PriorityQueueMinHeap()\n",
    "    dist = [INF] * len(graph)\n",
    "    parent = [None] * len(graph)\n",
    "    dist[0] = 0\n",
    "    pq.push((0, 0))\n",
    "\n",
    "    while len(pq) > 0:\n",
    "        curr_dist, u = pq.pop()\n",
    "        if curr_dist > dist[u]:\n",
    "            continue\n",
    "\n",
    "        for v, weight in graph[u]:\n",
    "            if dist[u] + weight < dist[v]:\n",
    "                dist[v] = dist[u] + weight\n",
    "                parent[v] = u\n",
    "                pq.push((dist[v], v))\n",
    "\n",
    "    return dist, parent"
   ]
  },
  {
   "cell_type": "markdown",
   "id": "ca951db8",
   "metadata": {},
   "source": [
    "## **Actual Implementation**"
   ]
  },
  {
   "cell_type": "code",
   "execution_count": null,
   "id": "5381cf8f",
   "metadata": {},
   "outputs": [],
   "source": [
    "test_range = range(2, 200)\n",
    "mean_execution_time = []\n",
    "trials = 10\n",
    "\n",
    "for i in test_range:\n",
    "\n",
    "    for _ in range(trials):\n",
    "        graph = generateAdjacencyListsGraph(i)\n",
    "        start_time = time.perf_counter()\n",
    "\n",
    "        dijkstraAlgorithm(graph)\n",
    "\n",
    "        end_time = time.perf_counter()\n",
    "\n",
    "        total_time = end_time - start_time\n",
    "\n",
    "    mean_execution_time.append(total_time/trials)\n",
    "\n",
    "plt.figure(figsize=(10,10))\n",
    "\n",
    "plt.plot(test_range, mean_execution_time, linestyle='--', label='Number of Nodes vs Execution Time')\n",
    "\n",
    "plt.xlabel('Number of Nodes')\n",
    "plt.ylabel('Mean Execution Time')\n",
    "plt.title('Number of Nodes vs Execution Time')\n",
    "plt.legend()\n",
    "\n",
    "plt.show()"
   ]
  }
 ],
 "metadata": {
  "kernelspec": {
   "display_name": "Python 3",
   "language": "python",
   "name": "python3"
  },
  "language_info": {
   "codemirror_mode": {
    "name": "ipython",
    "version": 3
   },
   "file_extension": ".py",
   "mimetype": "text/x-python",
   "name": "python",
   "nbconvert_exporter": "python",
   "pygments_lexer": "ipython3",
   "version": "3.11.9"
  }
 },
 "nbformat": 4,
 "nbformat_minor": 5
}
