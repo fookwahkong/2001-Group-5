{
 "cells": [
  {
   "cell_type": "markdown",
   "id": "762a4da0",
   "metadata": {},
   "source": [
    "# **Project 1: Integration of Insertion Sort and Merge Sort**\n",
    "\n",
    "## Team 5\n",
    "\n",
    "| **Group Member** | **Matriculation Number** |\n",
    "|---------|-------|\n",
    "| Jyoshika Barathimogan | |\n",
    "| Kong Fook Wah | U2421655E |\n",
    "| Kris Khor Hai Xiang | U2421377C |"
   ]
  },
  {
   "cell_type": "markdown",
   "id": "db823187",
   "metadata": {},
   "source": [
    "## **Table of Content**\n",
    "\n",
    "- [Background](#background)\n",
    "- [Purpose](#purpose-of-project-1)\n",
    "- [Implementation](#sequence-of-build)\n",
    "- [Result](#c-analysis-of-time-complexity)\n",
    "\n"
   ]
  },
  {
   "cell_type": "markdown",
   "id": "5d4c697f",
   "metadata": {},
   "source": [
    "## **Background**\n",
    "\n",
    "When subarrays become very small, Merge Sort's recursive overhead dominates its cost. In order to improve real-world performance, in practice, we swtich to Insertion Sort below a size threshold S, yielding a hybrid algorithm that reduces constant factors and imrpoves real-world performance. "
   ]
  },
  {
   "cell_type": "markdown",
   "id": "3ff1c644",
   "metadata": {},
   "source": [
    "## **Purpose of Project 1**\n",
    "\n",
    "This project aims to determine the optimal threshold value of S that maximises the efficiency of hybrid sort (Insertion Sort & Merge Sort). By applying Insertion Sort when the size of array or sub-array is less than or equal to S, the hybrid sort is expected to have visble improvement in terms of the total number of key comparison required to complete sorting process."
   ]
  },
  {
   "cell_type": "markdown",
   "id": "502367b3",
   "metadata": {},
   "source": [
    "## **Sequence of Build**\n",
    "\n",
    "### 1. Reproducibility and Constant Variables \n",
    "Set up the environment to ensure results are reproducible, including defining all constant variables\n",
    "\n",
    "### 2. Implementation of Hybrid Algorithm\n",
    "Develop the bhybrid sorting algorithm that switches to `Insertion Sort` when sub-array size is less than or equal to S\n",
    "\n",
    "### 3. Generation of Array for Analysis \n",
    "Generate test arrays with sizes `n ∈ {1_000 , ... , 10_000_000}`\n",
    "\n"
   ]
  },
  {
   "cell_type": "markdown",
   "id": "65454d65",
   "metadata": {},
   "source": [
    "### Library involved in the experiment\n",
    "\n",
    "| **Module** | **Purpose** |\n",
    "|--------|----------|\n",
    "| `random` | Generate arrays with random numbers |\n",
    "| `matplotlib` | Visualise the results of the experiment |\n",
    "| `tqdm` | Show the progress of the algorithm when running |\n",
    "| `math` | To plot theoretical graph for comparison |\n"
   ]
  },
  {
   "cell_type": "markdown",
   "id": "059fcea7",
   "metadata": {},
   "source": [
    "## **1. Reproducibility & Constant Variable**\n",
    "\n",
    "To maintain consistency across all experiment run, we fix the random environment by setting the seed value of the Python random module to 42. This ensures that the same sequence of random numbers is generated each time, allowing the results to be reproducible and unaffected by external variation."
   ]
  },
  {
   "cell_type": "code",
   "execution_count": null,
   "id": "e61b7f33",
   "metadata": {},
   "outputs": [],
   "source": [
    "import random\n",
    "import matplotlib.pyplot as plt\n",
    "from tqdm import tqdm\n",
    "import math\n",
    "import time\n",
    "from statistics import median\n",
    "\n",
    "random.seed(42) #to make sure that the way the number is  generated is consistent "
   ]
  },
  {
   "cell_type": "markdown",
   "id": "6437fedf",
   "metadata": {},
   "source": [
    "## **2. Algorithm Implementation**"
   ]
  },
  {
   "cell_type": "markdown",
   "id": "f6d83fdf",
   "metadata": {},
   "source": [
    "**Counter class**"
   ]
  },
  {
   "cell_type": "code",
   "execution_count": null,
   "id": "2bc5acc2",
   "metadata": {},
   "outputs": [],
   "source": [
    "class Counter:\n",
    "    comparison = 0"
   ]
  },
  {
   "cell_type": "markdown",
   "id": "1aaeb4fd",
   "metadata": {},
   "source": [
    "**Insertion Sort (in place)**"
   ]
  },
  {
   "cell_type": "code",
   "execution_count": null,
   "id": "aabf3ec1",
   "metadata": {},
   "outputs": [],
   "source": [
    "def insertionSort(array, low, high, counter: Counter):\n",
    "\n",
    "    for i in range(low + 1, high):\n",
    "        key = array[i]\n",
    "        j = i - 1\n",
    "\n",
    "        while j >= low:\n",
    "            counter.comparison += 1\n",
    "\n",
    "            if array[j] > key:\n",
    "                array[j + 1] = array[j]\n",
    "                j -= 1\n",
    "            else:\n",
    "                break\n",
    "\n",
    "        array[j + 1] = key"
   ]
  },
  {
   "cell_type": "markdown",
   "id": "f6e39370",
   "metadata": {},
   "source": [
    "**Merge Sort *(in place)***"
   ]
  },
  {
   "cell_type": "code",
   "execution_count": null,
   "id": "c3399515",
   "metadata": {},
   "outputs": [],
   "source": [
    "#aux: auxiliary storage\n",
    "def merge(array, low, mid, high, aux, counter: Counter):\n",
    "    \n",
    "    i, j, k = low, mid, 0\n",
    "    \n",
    "    while i < mid and j < high:\n",
    "        counter.comparison += 1\n",
    "        \n",
    "        if array[i] <= array[j]:\n",
    "            aux[k] = array[i]; i += 1\n",
    "        else:\n",
    "            aux[k] = array[j]; j += 1\n",
    "        k += 1\n",
    "        \n",
    "    while i < mid:  \n",
    "        aux[k] = array[i]\n",
    "        i += 1\n",
    "        k += 1\n",
    "        \n",
    "    while j < high:   \n",
    "        aux[k] = array[j]\n",
    "        j += 1\n",
    "        k += 1\n",
    "        \n",
    "    array[low:high] = aux[:k]\n",
    "\n",
    "\n",
    "def mergeSort(array, low, high, aux, counter: Counter):\n",
    "    \n",
    "    n = high - low\n",
    "    \n",
    "    if n <= 1:\n",
    "        return\n",
    "\n",
    "    mid = (low + high) // 2\n",
    "\n",
    "    mergeSort(array, low, mid, aux, counter)\n",
    "    mergeSort(array, mid, high, aux, counter)\n",
    "    merge(array, low, mid, high, aux, counter)\n"
   ]
  },
  {
   "cell_type": "markdown",
   "id": "ea8adeb5",
   "metadata": {},
   "source": [
    "**Hybrid Sort *(in place)***"
   ]
  },
  {
   "cell_type": "code",
   "execution_count": null,
   "id": "18833460",
   "metadata": {},
   "outputs": [],
   "source": [
    "def hybridSort(array, low, high, S, aux, counter: Counter):\n",
    "    \n",
    "    if high - low <= 1:\n",
    "        return\n",
    "\n",
    "    if high - low <= S:\n",
    "        insertionSort(array, low, high, counter)\n",
    "        return\n",
    "    \n",
    "    mid = (low + high) // 2\n",
    "\n",
    "    hybridSort(array, low, mid, S, aux, counter)\n",
    "    hybridSort(array, mid, high, S, aux, counter)\n",
    "    merge(array, low, mid, high, aux, counter)"
   ]
  },
  {
   "cell_type": "markdown",
   "id": "e87f4b0c",
   "metadata": {},
   "source": [
    "## Testing Hybrid Sort algorithm"
   ]
  },
  {
   "cell_type": "code",
   "execution_count": null,
   "id": "7ff57614",
   "metadata": {},
   "outputs": [],
   "source": [
    "array = [random.randint(-50, 50) for _ in range(50)]\n",
    "\n",
    "S = 5\n",
    "\n",
    "aux = [None] * 50\n",
    "counter = Counter()\n",
    "\n",
    "hybridSort(array, 0, 50, S, aux, counter)\n",
    "print(\"Array after sorting: \", array)\n",
    "print(\"Key Comparison of the array: \", counter.comparison)"
   ]
  },
  {
   "cell_type": "markdown",
   "id": "d1858c9e",
   "metadata": {},
   "source": [
    "It works. Good. Now let's test its efficiency."
   ]
  },
  {
   "cell_type": "markdown",
   "id": "43945682",
   "metadata": {},
   "source": [
    "## **3. Generating input data**"
   ]
  },
  {
   "cell_type": "markdown",
   "id": "065c27cd",
   "metadata": {},
   "source": [
    "To avoid the heavy runtime of algorithm due to linear stepping, we sample input sizes on a logarithmic grid with a ratio of around 2 to 2.5 times between consecutive n."
   ]
  },
  {
   "cell_type": "code",
   "execution_count": null,
   "id": "9a6663f5",
   "metadata": {},
   "outputs": [],
   "source": [
    "#Such spacing balance accuracy and runtime while preserving the nlogn trend with far fewer experiments\n",
    "sizes = [1_000, 2_000, 5_000, \n",
    "        10_000, 20_000, 50_000,\n",
    "        100_000, 200_000, 500_000,\n",
    "        1_000_000, 2_000_000, 5_000_000,\n",
    "        10_000_000]\n",
    "\n",
    "#here we allow the integers in the array to be a range from 0 to 1_000"
   ]
  },
  {
   "cell_type": "markdown",
   "id": "69ffea39",
   "metadata": {},
   "source": [
    "Now that we have built the Hybrid Sort and the input array, let's analyse its time complexity before we actually test it out."
   ]
  },
  {
   "cell_type": "markdown",
   "id": "bff01e7c",
   "metadata": {},
   "source": [
    "## **Theoretical Analysis of the Time Complexity**\n",
    "\n",
    "| **Algorithm**      | **Best Case**     | **Average Case**   | **Worst Case**  |\n",
    "|----------------|--------------|----------------|--------------|\n",
    "| Insertion Sort | $O(n)$         | $O(n²)$          | $O(n²)$        |\n",
    "| Merge Sort     | $O(n log n)$   | $O(n log n)$     | $O(n log n)$   |\n"
   ]
  },
  {
   "cell_type": "markdown",
   "id": "e988637c",
   "metadata": {},
   "source": [
    "## Condition 1: Fixed S, Vary N\n",
    "### MergeSort\n",
    "Theoretically, standard Merge Sort keeps splitting until the subarrays are size 1, which continues until $log{_2}{n}$ level. However, in Hybrid Sort, Merge Sort will stop the recursion when subarray $\\le S$. (Merge Sort does not go all the way down to level 1)\n",
    "\n",
    "Then the next question that we are faced with: *How many halvings need to be done until array size shrinks from $n$ to $S$ ?*\n",
    "\n",
    "Turns out that's when size of array is  $\\frac{n}{2^k} \\le S$  (See `Image 1` for more information)\n",
    "\n",
    "Solving for k...\n",
    "\n",
    "$ \\frac{n}{2^k} \\le S $\n",
    "\n",
    "$log{_2}{\\frac{n}{S}} \\le k log{_2}{2}$\n",
    "\n",
    "$k \\ge log{_2}{\\frac{n}{S}}  $\n",
    "\n",
    "Therefore we only need about $log{_2}{\\frac{n}{S}}$ levels of recursion.\n",
    "\n",
    "Since $n$ elements are compared at every level in merging process, each level does $ O(n) $ work\n",
    "\n",
    "Combining both, under the Hybrid Sort, Merge Sort would have a total of $O(n log \\frac{n}{S}) $\n",
    "\n",
    "Merge Sort done, now Insertion Sort.\n",
    "\n",
    "### Insertion Sort\n",
    "\n",
    "At last recursion of Merge Sort, Insertion is left with $ \\frac{n}{S} $ with each size $ \\le S $ to sort.\n",
    "\n",
    "Insertion Sort at best case runs at $O(n)$ (when the array is mostly sorted). Hence, with Hybrid Sort, we expect the time complexity of Insertion Sort to be $\\frac{n}{S} \\cdot O(S) = O(n)$\n",
    "\n",
    "At worst case, Insertion runs at $ O(n^2) $. Hence, with Hybrid Sort, we expect the time complexity of Insertion Sort to be $\\frac{n}{S} \\cdot O(n^2) = O(n S)$\n",
    "\n",
    "#### Result\n",
    "\n",
    "The overall hybrid cost is \n",
    "\n",
    "Best Case $ O(n) + O(n log \\frac{n}{S}) = O(n + n log \\frac{n}{S}) $\n",
    "\n",
    "Worst Case: $ O(n S) + O(n log \\frac{n}{S}) = O(n S +n log \\frac{n}{S})$\n",
    "\n",
    "| **Algorithm**      | **Best Case**     | **Average Case**   | **Worst Case**  |\n",
    "|----------------|--------------|----------------|--------------|\n",
    "| Hybrid Sort | $O(n + n log \\frac{n}{S})$         | $O(n S +n log \\frac{n}{S})$       | $O(n S +n log \\frac{n}{S})$       |\n",
    "\n",
    "\n"
   ]
  },
  {
   "cell_type": "markdown",
   "id": "3e8248b1",
   "metadata": {},
   "source": [
    "\n",
    "*Image 1: Illustration on why the size of array is $\\frac{n}{2^k}$*"
   ]
  },
  {
   "cell_type": "markdown",
   "id": "c88c5c04",
   "metadata": {},
   "source": [
    "## Condition 2: Fixed N, Vary S\n",
    "\n",
    "From the previous analysis of time complexity for Merge Sort and Insertion Sort, we notice a pattern.\n",
    "\n",
    "As S increases,\n",
    "\n",
    "- Time complexity of Merge Sort *$O(nlog{\\frac{n}{S}}) $* shrinks\n",
    "\n",
    "- But, time complexity of Insertion Sort $O(n S)$ (worst case) grows linearly with S\n",
    "\n",
    "This shows that the weightage of Insertion Sort and Merge Sort inverted as S increases.\n",
    "\n",
    "| **Value of S** | **Insertion Sort** | **Merge Sort** | **Total** |\n",
    "|-------------------------------|----------------|------------|--------|\n",
    "| When S=1 (Pure Merge Sort) | - | $O(nlog{n})$ | $O(nlog{n})$ |\n",
    "| When S=16 to 64 (Small constant ) | $O(n S) \\approx O(n) $ | $O(n log \\frac{n}{S}) \\approx O(nlogn)$ | $O(nlog{n})$ | \n",
    "| When S=$n^\\alpha, \\alpha>0 $ (Big constant) | $O(n^{1+\\alpha})$ | $O(n log \\frac{n}{n^{1+\\alpha}})$ (Neligible) | $O(n^{1+\\alpha})$ (Runtime degrades beyond $O(nlog{n})$)|\n",
    "| When $S \\ge N$ (Reduces to Insertion Sort)|  $O(n)$ (Best Case) <br> $O(n^2)$ (Worst Case) | - | $O(n)$ (Best Case) <br> $O(n^2)$ (Worst Case) |\n",
    "\n",
    "As $S$ increases, Merge Sort gets less weightage as Insertion Sort increases in weightage.\n",
    "\n",
    "However, we realise that there is a sweet spot where both have balance weightage, that is small constant $S$ region"
   ]
  },
  {
   "cell_type": "markdown",
   "id": "18174709",
   "metadata": {},
   "source": [
    "We are finally done with the Theoretical Analysis. Time to put the algorithm into test."
   ]
  },
  {
   "cell_type": "markdown",
   "id": "eb47ff3d",
   "metadata": {},
   "source": [
    "## **Analysis of Time Complexity (Empirical Result)**"
   ]
  },
  {
   "cell_type": "markdown",
   "id": "650f7356",
   "metadata": {},
   "source": [
    "\n",
    "### 1. Algorithm Analysis\n",
    "Conduct performance analysis under two conditions:\n",
    "**(i)** Fix `S`, vary `n`\n",
    "**(ii)** Fix `n`, vary `S`\n",
    "\n",
    "### 2. Determining the Optimal Threshold $S$ from Part (1)\n",
    "By utilising the two conditions, we intend to analyse the patterns on the graphs to derive conclusion to the optimal threshold $S$\n",
    "\n",
    "### 3. Comparison of Hybrid Sort with Merge Sort \n",
    "Compare the performance of Hybrid Sort against standard Merge Sort at at `n = 10_000_000` using optimal threshold value of S found in (4)"
   ]
  },
  {
   "cell_type": "markdown",
   "id": "6bbf3bf7",
   "metadata": {},
   "source": [
    "To keep the experiement as fair as possible, we use Mean Key Comparison and Median Execution Time as the comparators of the algorithm.\n",
    "\n",
    "Mean Key Comparison: As an estimate of the expected comparisons over random inputs\n",
    "\n",
    "Median Execution Time: As a measure to reduce the disturbance due to computer environment."
   ]
  },
  {
   "cell_type": "markdown",
   "id": "20bb3890",
   "metadata": {},
   "source": [
    "### (i) Fix S, Vary N"
   ]
  },
  {
   "cell_type": "code",
   "execution_count": null,
   "id": "8afe2064",
   "metadata": {},
   "outputs": [],
   "source": [
    "# S value is fixed to be 32 (for now)\n",
    "FIXED_VALUE_S = 32\n",
    "kc_vals = []\n",
    "median_execution_time = []\n",
    "\n",
    "for size in tqdm(sizes, desc = \"Part 1 (i)\"):\n",
    "    \n",
    "    #collect comparisons list\n",
    "    kc_sum = 0\n",
    "    times = []\n",
    "\n",
    "    for _ in range(3):\n",
    "\n",
    "        arr = [random.randint(0, 10_000) for _ in range(size)]\n",
    "        counter = Counter()\n",
    "        aux = [None] * size\n",
    "        start_time = time.perf_counter()\n",
    "\n",
    "        hybridSort(arr, 0, size, FIXED_VALUE_S, aux, counter)\n",
    "\n",
    "        end_time = time.perf_counter()\n",
    "        times.append(end_time - start_time)\n",
    "        kc_sum += counter.comparison\n",
    "    \n",
    "    kc_average = kc_sum / 3\n",
    "    kc_vals.append(kc_average)\n",
    "\n",
    "    median_execution_time.append(median(times))\n",
    "\n",
    "for i in range(len(median_execution_time)):\n",
    "    print('Size of the array: ', sizes[i])\n",
    "    print('Median Execution Time: ', median_execution_time[i])\n",
    "\n",
    "#Plot graph\n",
    "plt.figure(figsize=(10,5))\n",
    "\n",
    "plt.plot(sizes, kc_vals, marker='o', label='Average Key Comparisons')\n",
    "theory = [n*S + n*math.log2(n/S) for n in sizes]\n",
    "plt.plot(sizes, theory, '--', label=r'$O(nS + n\\log(n/S))$ reference')\n",
    "\n",
    "plt.xlabel('Array size (n)')\n",
    "plt.ylabel('Key Comparison')\n",
    "plt.title('Hybrid Sort Complexity')\n",
    "plt.legend()\n",
    "plt.grid(True)\n",
    "plt.show()"
   ]
  },
  {
   "attachments": {
    "Operation Count vs Array Size.png": {
     "image/png": "[encoded data removed]"
    }
   },
   "cell_type": "markdown",
   "id": "764d3591",
   "metadata": {},
   "source": [
    "![Operation Count vs Array Size.png](<attachment:Operation Count vs Array Size.png>)"
   ]
  },
  {
   "cell_type": "markdown",
   "id": "0d690041",
   "metadata": {},
   "source": [
    "*Image 2: Graph of Mean Key Comparison against Array Size*"
   ]
  },
  {
   "cell_type": "markdown",
   "id": "9a73fc45",
   "metadata": {},
   "source": [
    "Yes. The graph is following the shape of our theoretical analysis $O(log(nS + nlog(\\frac{n}{S})))$. In fact, our algorithm is performing better than what we expected at some portion of size N *(100_000 to 250_000 and >)"
   ]
  },
  {
   "cell_type": "markdown",
   "id": "ff15daea",
   "metadata": {},
   "source": [
    "### (ii) Fix N, Vary S"
   ]
  },
  {
   "cell_type": "code",
   "execution_count": null,
   "id": "f2fa51a1",
   "metadata": {},
   "outputs": [],
   "source": [
    "size = 200_000\n",
    "s_vals = list(range(1, 200))\n",
    "kc_vals = []\n",
    "median_execution_time = []\n",
    "base_arr = [random.randint(0, 10_000) for _ in range(size)]\n",
    "\n",
    "for s in tqdm(s_vals, desc = \"Question part cii\"):\n",
    "\n",
    "    kc_sum = 0\n",
    "    times = []\n",
    "    \n",
    "    for _ in range(3):\n",
    "        arr = base_arr.copy()\n",
    "        counter = Counter()\n",
    "        aux = [None] * size\n",
    "        start_time = time.perf_counter()\n",
    "\n",
    "        hybridSort(arr, 0, size, s, aux, counter)\n",
    "\n",
    "        end_time = time.perf_counter()\n",
    "        times.append(end_time - start_time)\n",
    "        kc_sum += counter.comparison\n",
    "    \n",
    "    kc_average = kc_sum / 3\n",
    "    kc_vals.append(kc_average)\n",
    "\n",
    "    median_execution_time.append(median(times))\n",
    "    \n",
    "\n",
    "for i in range(len(median_execution_time)):\n",
    "    print('Threshold Value S: ', s_vals[i])\n",
    "    print('Median Execution Time: ', median_execution_time[i])\n",
    "\n",
    "#plot graph\n",
    "plt.figure(figsize=(10,5))\n",
    "\n",
    "plt.plot(s_vals, kc_vals, linestyle='--', label='Key Comparisons vs Threshold S')\n",
    "\n",
    "plt.xlabel('Threshold S')\n",
    "plt.ylabel('Key Comparison')\n",
    "plt.title('Hybrid Sort Complexity with variety of S')\n",
    "plt.legend()\n",
    "plt.grid(True)\n",
    "plt.show()"
   ]
  },
  {
   "attachments": {
    "Operation Count vs Threshold S.png": {
     "image/png": "[encoded data removed]"
    }
   },
   "cell_type": "markdown",
   "id": "6189100b",
   "metadata": {},
   "source": [
    "![Operation Count vs Threshold S.png](<attachment:Operation Count vs Threshold S.png>)"
   ]
  },
  {
   "cell_type": "markdown",
   "id": "4662d64e",
   "metadata": {},
   "source": [
    "*Image 3: Graph of Mean Key Comparison against Threshold S*"
   ]
  },
  {
   "cell_type": "markdown",
   "id": "c1a4514f",
   "metadata": {},
   "source": [
    "The graph displays a staircase-like pattern. HMM... is there something wrong with the code? Let's try to understand why we yield such pattern."
   ]
  },
  {
   "cell_type": "markdown",
   "id": "4138aab2",
   "metadata": {},
   "source": [
    "## Analysis of Graph of Key Comparison against Threshold S\n",
    "\n",
    "We know that Merge Sort keep splitting the array until subarray size $\\le S$. So at depth $d$ in the recursion tree, each subarray has size $\\frac{n}{2^k}$ for $k= {1, 2, 4, 8,...}$. \n",
    "\n",
    "The decision at each depth:\n",
    "\n",
    "- If $\\frac{n}{2^k} \\ge S$, we keep calling Merge Sort and split again\n",
    "- If $\\frac{n}{2^k} \\le S$, we stop the splitting and call Insertion Sort\n",
    "\n",
    "Now we imagine there is two consecutive levels that is just before the threshold S (level $d$ and level $d-1$)\n",
    "\n",
    "- Level $d$: subarray size = $\\frac{n}{2^k}$\n",
    "- Level $d-1$: subrray size = $\\frac{n}{2^{k-1}}$\n",
    "\n",
    "If we pick our threshold value S strictly between these two values ($\\frac{n}{2^ {k-1}} < S < \\frac{n}{2^k}$)\n",
    "- When S is near $\\frac{2n}{k}$, the S value becomes too large that Merge Sort kept getting called\n",
    "- When S is near $\\frac{n}{k}$, the S value becomes too small that Insertion Sort kept getting called\n",
    "\n",
    "For any $S$ in this interval, the recursion reaches exactly the same level before switching to Insertion Sort (See `Image 4` for more information). Hence, the total number of insertion calls and their sizes remain unchanged, leading to a *flat region* in the graph. \n",
    "\n",
    "\n",
    "Secondly, at $S=\\frac{n}{2^k}$, \n",
    "- All subarrays of size $S=\\frac{n}{2^k}$ that would have been handled by Merge Sort at level $d$ now switch to Insertion Sort at level $d−1$, doubling the number of insertion calls. (See `Image 5` for more information)\n",
    "\n",
    "Therefore, this explains the *spike* in the graph due to the sudden increase in the number of insertion calls which gives rise to more Key Comparison.\n",
    "\n",
    "### Result\n",
    "\n",
    "As $S$ increases,\n",
    "\n",
    "- The cutoff moves upward in the recursion tree in jumps \n",
    "- And between jumps, the insertion level is triggered in at the same recursion depth, causing the *flat region*\n",
    "- Finally at the exact multiples of $S=\\frac{n}{2^k}$, the algorithm shifted an entire level to Insertion Sort, causing the *spike*"
   ]
  },
  {
   "cell_type": "markdown",
   "id": "81efa94b",
   "metadata": {},
   "source": [
    "### (2) Determining the Optimal Value of S\n",
    "\n",
    "In this part, we aim to determine the optimal threshold value of $S$ that gives the maximum efficiency of Hybrid Sort.\n",
    "\n",
    "For each input size $n$, we generate random datasets and run the hybrid sort with different values of $S$. \n",
    "\n",
    "By recording the mean number of key comparisons for each $S$ (averaged across several random seeds), the optimal threshold value of $S$ can be discovered by taking the value of S that gives the lowest mean comparison count.\n",
    "\n",
    "We also plot comparisons versus $S$ for each $n$ to visualize the trade-off between fewer merge levels (smaller $S$) and more insertion-sort work (larger $S$)."
   ]
  },
  {
   "cell_type": "code",
   "execution_count": null,
   "id": "bb09cd83",
   "metadata": {},
   "outputs": [],
   "source": [
    "size = 200_000\n",
    "s_vals = list(range(11, 20))\n",
    "kc_vals = []\n",
    "median_execution_time = []\n",
    "base_arr = [random.randint(0, 10_000) for _ in range(size)]\n",
    "\n",
    "for s in tqdm(s_vals, desc = \"Part 2\"):\n",
    "\n",
    "    kc_sum = 0\n",
    "    times = []\n",
    "    \n",
    "    for _ in range(3):\n",
    "        arr = base_arr.copy()\n",
    "        counter = Counter()\n",
    "        aux = [None] * size\n",
    "        start_time = time.perf_counter()\n",
    "\n",
    "        hybridSort(arr, 0, size, s, aux, counter)\n",
    "\n",
    "        end_time = time.perf_counter()\n",
    "        times.append(end_time - start_time)\n",
    "        kc_sum += counter.comparison\n",
    "    \n",
    "    kc_average = kc_sum / 3\n",
    "    kc_vals.append(kc_average)\n",
    "\n",
    "    median_execution_time.append(median(times))\n",
    "    \n",
    "\n",
    "for i in range(len(median_execution_time)):\n",
    "    print('Threshold Value S: ', s_vals[i])\n",
    "    print('Median Execution Time: ', median_execution_time[i])\n",
    "\n",
    "#plot graph\n",
    "plt.figure(figsize=(10,5))\n",
    "\n",
    "plt.plot(s_vals, kc_vals, linestyle='--', label='Key Comparisons vs Threshold S')\n",
    "\n",
    "plt.xlabel('Threshold S')\n",
    "plt.ylabel('Key Comparison')\n",
    "plt.title('Hybrid Sort Complexity with variety of S')\n",
    "plt.legend()\n",
    "plt.grid(True)\n",
    "plt.show()"
   ]
  },
  {
   "cell_type": "code",
   "execution_count": null,
   "id": "987729c5",
   "metadata": {},
   "outputs": [],
   "source": [
    "kc_vals = []               # store (size, S, comparisons)\n",
    "execution_times = []       # store (size, S, time)\n",
    "s_vals = list(range(1, 200))\n",
    "sizes = [1_000, 2_000, 5_000, \n",
    "        10_000, 20_000, 50_000,\n",
    "        100_000, 200_000, 500_000]\n",
    "    \n",
    "for size in tqdm(sizes, desc=\"Part 3\"):\n",
    "    base_arr = [random.randint(0, 10_000) for _ in range(size)]\n",
    "\n",
    "    for s in s_vals:\n",
    "        arr = base_arr.copy()\n",
    "        counter = Counter()\n",
    "        aux = [None] * size\n",
    "\n",
    "        start_time = time.perf_counter()\n",
    "        hybridSort(arr, 0, size, s, aux, counter)\n",
    "        end_time = time.perf_counter()\n",
    "\n",
    "        elapsed = end_time - start_time\n",
    "        comps = counter.comparison\n",
    "\n",
    "        kc_vals.append({\"n\": size, \"S\": s, \"comparisons\": comps})\n",
    "        execution_times.append({\"n\": size, \"S\": s, \"time\": elapsed})\n",
    "\n",
    "best_S_by_n = {}\n",
    "for size in sizes:\n",
    "    # filter rows for this size\n",
    "    rows = [r for r in kc_vals if r[\"n\"] == size]\n",
    "    best = min(rows, key=lambda r: r[\"comparisons\"])\n",
    "    best_S_by_n[size] = best[\"S\"]\n",
    "\n",
    "print(best_S_by_n)\n"
   ]
  },
  {
   "cell_type": "code",
   "execution_count": null,
   "id": "1dc1a73d",
   "metadata": {},
   "outputs": [],
   "source": [
    "\n",
    "# 1) Runner that matches YOUR signatures/bounds and returns comparison count\n",
    "def run_hybrid_and_count(arr, S: int):\n",
    "    A = list(arr)\n",
    "    n = len(A)\n",
    "    aux = [None] * n\n",
    "    counter = Counter()\n",
    "    hybridSort(A, 0, n, S, aux, counter)\n",
    "    return A, counter.comparison\n",
    "\n",
    "# 2) Find optimal S for one n\n",
    "def find_optimal_S_for_n(n: int,\n",
    "                         S_values=range(1, 33),\n",
    "                         seeds=(101, 202, 303),\n",
    "                         x: int = 10**9):\n",
    "    cmptable = []\n",
    "    for S in S_values:\n",
    "        counts = []\n",
    "        for sd in seeds:\n",
    "            arr = make_random_array(n, x=x, seed=sd)\n",
    "            _, c = run_hybrid_and_count(arr, S)\n",
    "            counts.append(c)\n",
    "        mean_cmp = (sum(counts) / len(counts)) if not _HAS_NP else float(np.mean(counts))\n",
    "        std_cmp  = (sum((v-mean_cmp)**2 for v in counts)/len(counts))**0.5 if not _HAS_NP else float(np.std(counts))\n",
    "        cmptable.append({\"S\": S, \"mean_cmp\": mean_cmp, \"std_cmp\": std_cmp, \"samples\": len(counts)})\n",
    "    best = min(cmptable, key=lambda r: r[\"mean_cmp\"])\n",
    "    return best, cmptable\n",
    "\n",
    "# 3) Driver: sweep several n, print argmin S, and (optionally) plot curves\n",
    "def ciii_optimal_S_experiment(n_values=(200_000, 300_000, 1_000_000),\n",
    "                              S_values=range(1, 33),\n",
    "                              seeds=(101, 202, 303),\n",
    "                              x=10**9,\n",
    "                              do_plots=True):\n",
    "    results = []\n",
    "    for n in n_values:\n",
    "        best, table = find_optimal_S_for_n(n, S_values=S_values, seeds=seeds, x=x)\n",
    "        results.append({\"n\": n, **best})\n",
    "        print(f\"n={n:,} → best S={best['S']}, mean_cmp={int(best['mean_cmp']):,}, std={int(best['std_cmp'])}, samples={best['samples']}\")\n",
    "        if do_plots:\n",
    "            try:\n",
    "                plt.figure()\n",
    "                plt.plot([r[\"S\"] for r in table], [r[\"mean_cmp\"] for r in table], marker='o')\n",
    "                plt.title(f\"Comparisons vs S (n={n:,})\")\n",
    "                plt.xlabel(\"S (cutoff)\"); plt.ylabel(\"Mean key comparisons\"); plt.grid(True)\n",
    "                # mark the best point\n",
    "                plt.scatter([best[\"S\"]], [best[\"mean_cmp\"]], s=60)\n",
    "                plt.show()\n",
    "            except Exception:\n",
    "                print(\"Tip: install matplotlib to see the curves (pip install matplotlib).\")\n",
    "    return results\n",
    "\n",
    "# Plot helper (run this once per session)\n",
    "\n",
    "def plot_cmp_vs_S(table, title=\"Comparisons vs S\"):\n",
    "    S = [row[\"S\"] for row in table]\n",
    "    M = [row[\"mean_cmp\"] for row in table]\n",
    "    plt.figure()\n",
    "    plt.plot(S, M, marker='o')\n",
    "    plt.xlabel(\"S (cutoff for insertion sort)\")\n",
    "    plt.ylabel(\"Mean key comparisons\")\n",
    "    plt.title(title)\n",
    "    plt.grid(True)\n",
    "    plt.show()\n",
    "\n",
    "# === Example run (uncomment to execute) ===\n",
    "summary = ciii_optimal_S_experiment(\n",
    "    n_values=(200_000, 300_000, 1_000_000),\n",
    "    S_values=range(1, 33),\n",
    "    seeds=(101, 202, 303),\n",
    "    x=10**9,\n",
    "    do_plots=True\n",
    ")\n",
    "print(\"Summary:\", summary)\n"
   ]
  },
  {
   "cell_type": "markdown",
   "id": "4ba7f025",
   "metadata": {},
   "source": [
    "## **(d) Comparison with original MergeSort**"
   ]
  },
  {
   "cell_type": "code",
   "execution_count": null,
   "id": "99f80b4e",
   "metadata": {},
   "outputs": [],
   "source": [
    "size = 10_000_000\n",
    "s_vals = 32\n",
    "\n",
    "#Hybrid Sort\n",
    "arr = [random.randint(0, 10**4) for _ in range(size)]\n",
    "counter = Counter()\n",
    "aux = [None] * size\n",
    "start_time = time.perf_counter()\n",
    "\n",
    "hybridSort(arr, 0, size, s_vals, aux, counter)\n",
    "\n",
    "end_time = time.perf_counter()\n",
    "\n",
    "print('Time taken for Hybrid Sort to complete is: ', end_time - start_time)\n",
    "print(\"Total number of Key Comparison for Hybrid Sort: \", counter.comparison)\n",
    "\n",
    "#Merge Sort\n",
    "arr = [random.randint(0, 10**4) for _ in range(size)]\n",
    "counter = Counter()\n",
    "aux = [None] * size\n",
    "start_time = time.perf_counter()\n",
    "\n",
    "mergeSort(arr, 0, size, aux, counter)\n",
    "\n",
    "end_time = time.perf_counter()\n",
    "\n",
    "print('Time taken for Merge Sort to complete is: ', end_time - start_time)\n",
    "print(\"Total number of Key Comparison for Merge Sort: \", counter.comparison)"
   ]
  },
  {
   "cell_type": "markdown",
   "id": "13927b0e",
   "metadata": {},
   "source": [
    "## **Conclusion**"
   ]
  },
  {
   "cell_type": "markdown",
   "id": "dbf26ac3",
   "metadata": {},
   "source": [
    "In this project, we implemented, and analyzed a hybrid sorting algorithm that integrates mergesort with insertion sort. Each part of the work contributed to building a full understanding of both the theory and practical efficiency of this approach.\n",
    "\n",
    "### Part (a): Algorithm implementation\n",
    "\n",
    "We implemented a hybrid mergesort that switches to insertion sort when subarray size is below a threshold S. This took advantage of insertion sort’s efficiency on small arrays while retaining mergesort’s O(nlogn) performance on larger data.\n",
    "\n",
    "### Part (b): Data generation\n",
    "\n",
    "We built reproducible test datasets ranging from 1_000 to 10_000_000 elements, ensuring consistency across experiments and making it possible to fairly compare performance under different environments.\n",
    "\n",
    "### Part (c): Empirical analysis\n",
    "\n",
    "(i) By fixing $S$, we confirmed the expected O(nlogn) growth in key comparisons as input size $n$ grows.\n",
    "\n",
    "(ii) By fixing $n$, we observed a U-shaped relationship between key comparisons and S: small S led to deeper recursion and more merges, while large S made insertion sort more dominant.\n",
    "\n",
    "(iii) Both theory and experiments suggested the optimal S lies in a small constant range. Our mathematical model predicted S≈6, while experiments found the minimum in the range of 3–8, depending on how comparisons were counted.\n",
    "\n",
    "### Part (d): Comparison with original mergesort\n",
    "\n",
    "Using the optimal S, the hybrid sort consistently reduced the number of comparisons compared to pure merge sort, and in practice also reduced running time due to fewer recursive calls and better cache behaviour. This shows why hybrid algorithms are widely adopted in real-world libraries (e.g., Timsort, introsort).\n"
   ]
  },
  {
   "cell_type": "markdown",
   "id": "076b1972",
   "metadata": {},
   "source": [
    "## **Overall Reflection**\n",
    "\n",
    "The project demonstrates an important principle in algorithm design:\n",
    "\n",
    "Theory gives a guideline (e.g., optimal S by asymptotic cost).\n",
    "\n",
    "Experiment refines it (real hardware and implementation details shift the optimum).\n",
    "\n",
    "By combining analysis, proof, and empirical data, we see that the hybrid approach is theoretically sound and practically superior, especially on large datasets.\n"
   ]
  }
 ],
 "metadata": {
  "kernelspec": {
   "display_name": "Python 3",
   "language": "python",
   "name": "python3"
  },
  "language_info": {
   "codemirror_mode": {
    "name": "ipython",
    "version": 3
   },
   "file_extension": ".py",
   "mimetype": "text/x-python",
   "name": "python",
   "nbconvert_exporter": "python",
   "pygments_lexer": "ipython3",
   "version": "3.12.10"
  }
 },
 "nbformat": 4,
 "nbformat_minor": 5
}
