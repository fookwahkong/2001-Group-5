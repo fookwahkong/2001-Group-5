{
 "cells": [
  {
   "cell_type": "markdown",
   "id": "762a4da0",
   "metadata": {},
   "source": [
    "# **Project 1: Integration of Insertion Sort and Merge Sort**\n",
    "\n",
    "## Team 5\n",
    "\n",
    "| **Group Member** | **Matriculation Number** |\n",
    "|---------|-------|\n",
    "| Jyoshika Barathimogan | |\n",
    "| Kong Fook Wah | U2421655E |\n",
    "| Kris Khor Hai Xiang | |"
   ]
  },
  {
   "cell_type": "markdown",
   "id": "3ff1c644",
   "metadata": {},
   "source": [
    "## **Purpose of Project 1**\n",
    "\n",
    "This project aims to find out the optimal value of threshold S for the maximum efficiency of hybrid sort between Insertion Sort and Merge Sort. By using Insertion Sort to sort array of size less than or equals to S, the merge sort should have visble improvement in terms of the number of comparisons that need to be made to complete the sorting process."
   ]
  },
  {
   "cell_type": "markdown",
   "id": "502367b3",
   "metadata": {},
   "source": [
    "## **Sequence of build**\n",
    "\n",
    "- (a) Implementation of Hybrid Algorithm\n",
    "\n",
    "- (b) Generate arrays: n ∈{10^3 , ... 10 ^ 7}\n",
    "\n",
    "- (c) Analysis: (i) fix S, vary n, (ii) fix n, vary S\n",
    "\n",
    "- (d) Compare with pure mergesort at n = 10^7 using optimal S found in (c)\n"
   ]
  },
  {
   "cell_type": "markdown",
   "id": "65454d65",
   "metadata": {},
   "source": [
    "Library involved in the experiment\n",
    "\n",
    "| **Module** | **Purpose** |\n",
    "|--------|----------|\n",
    "| `random` | Generate arrays with random numbers |\n",
    "| `matplotlib` | Visualise the results of the experiment |\n",
    "| `tqdm` | Show the progress of the algorithm when running |\n",
    "| `math` | To plot *nlogn* graph for comparison |"
   ]
  },
  {
   "cell_type": "markdown",
   "id": "059fcea7",
   "metadata": {},
   "source": [
    "## **Reproducibility & Constant Variable**\n",
    "\n",
    "To ensure that the environment of the experiment stays constant, we will implement random module with a constant seed, that is 42."
   ]
  },
  {
   "cell_type": "code",
   "execution_count": null,
   "id": "e61b7f33",
   "metadata": {},
   "outputs": [],
   "source": [
    "import random\n",
    "import matplotlib.pyplot as plt\n",
    "from tqdm import tqdm\n",
    "import math\n",
    "import time\n",
    "\n",
    "random.seed(42) #to make sure that the way the number is  generated is consistent "
   ]
  },
  {
   "cell_type": "markdown",
   "id": "6437fedf",
   "metadata": {},
   "source": [
    "## **(a) Algorithm Implementation**"
   ]
  },
  {
   "cell_type": "markdown",
   "id": "f6d83fdf",
   "metadata": {},
   "source": [
    "**Counter class**"
   ]
  },
  {
   "cell_type": "code",
   "execution_count": null,
   "id": "2bc5acc2",
   "metadata": {},
   "outputs": [],
   "source": [
    "class Counter:\n",
    "    comparison = 0"
   ]
  },
  {
   "cell_type": "markdown",
   "id": "1aaeb4fd",
   "metadata": {},
   "source": [
    "**Insertion Sort (in place)**"
   ]
  },
  {
   "cell_type": "code",
   "execution_count": null,
   "id": "aabf3ec1",
   "metadata": {},
   "outputs": [],
   "source": [
    "def insertionSort(array, low, high, counter: Counter):\n",
    "\n",
    "    for i in range(low + 1, high):\n",
    "        key = array[i]\n",
    "        j = i - 1\n",
    "\n",
    "        while j >= low:\n",
    "            counter.comparison += 1\n",
    "\n",
    "            if array[j] > key:\n",
    "                array[j + 1] = array[j]\n",
    "                j -= 1\n",
    "            else:\n",
    "                break\n",
    "\n",
    "        array[j + 1] = key"
   ]
  },
  {
   "cell_type": "markdown",
   "id": "f6e39370",
   "metadata": {},
   "source": [
    "**Merge Sort *(in place)***"
   ]
  },
  {
   "cell_type": "code",
   "execution_count": null,
   "id": "c3399515",
   "metadata": {},
   "outputs": [],
   "source": [
    "#aux: auxiliary storage\n",
    "def merge(array, low, mid, high, aux, counter: Counter):\n",
    "    \n",
    "    i, j, k = low, mid, 0\n",
    "    \n",
    "    while i < mid and j < high:\n",
    "        counter.comparison += 1\n",
    "        \n",
    "        if array[i] <= array[j]:\n",
    "            aux[k] = array[i]; i += 1\n",
    "        else:\n",
    "            aux[k] = array[j]; j += 1\n",
    "        k += 1\n",
    "        \n",
    "    while i < mid:  \n",
    "        aux[k] = array[i]\n",
    "        i += 1\n",
    "        k += 1\n",
    "        \n",
    "    while j < high:   \n",
    "        aux[k] = array[j]\n",
    "        j += 1\n",
    "        k += 1\n",
    "        \n",
    "    array[low:high] = aux[:k]\n",
    "\n",
    "\n",
    "def mergeSort(array, low, high, aux, counter: Counter):\n",
    "    \n",
    "    n = high - low\n",
    "    \n",
    "    if n <= 1:\n",
    "        return\n",
    "\n",
    "    mid = (low + high) // 2\n",
    "\n",
    "    mergeSort(array, low, mid, aux, counter)\n",
    "    mergeSort(array, mid + 1, high, aux, counter)\n",
    "    merge(array, low, mid, high, aux, counter)\n"
   ]
  },
  {
   "cell_type": "markdown",
   "id": "ea8adeb5",
   "metadata": {},
   "source": [
    "**Hybrid Sort *(in place)***"
   ]
  },
  {
   "cell_type": "code",
   "execution_count": null,
   "id": "18833460",
   "metadata": {},
   "outputs": [],
   "source": [
    "def hybridSort(array, low, high, S, aux, counter: Counter):\n",
    "    \n",
    "    n = high - low\n",
    "    \n",
    "    if n <= 1:\n",
    "        return\n",
    "\n",
    "    if n <= S:\n",
    "        insertionSort(array, low, high, counter)\n",
    "        return\n",
    "    \n",
    "    mid = (low + high) // 2\n",
    "\n",
    "    mergeSort(array, low, mid, aux, counter)\n",
    "    mergeSort(array, mid + 1, high, aux, counter)\n",
    "    merge(array, low, mid, high, aux, counter)"
   ]
  },
  {
   "cell_type": "markdown",
   "id": "e87f4b0c",
   "metadata": {},
   "source": [
    "## Testing Hybrid Sort algorithm"
   ]
  },
  {
   "cell_type": "code",
   "execution_count": null,
   "id": "7ff57614",
   "metadata": {},
   "outputs": [],
   "source": [
    "array = [random.randint(-50, 50) for _ in range(50)]\n",
    "\n",
    "S = 5\n",
    "\n",
    "aux = [None] * 50\n",
    "counter = Counter()\n",
    "\n",
    "hybridSort(array, 0, 50, S, aux, counter)\n",
    "print(\"Array after sorting: \", array)\n",
    "print(\"Key Comparison of the array: \", counter.comparison)"
   ]
  },
  {
   "cell_type": "markdown",
   "id": "d1858c9e",
   "metadata": {},
   "source": [
    "It works. Good. Now let's test the efficiency."
   ]
  },
  {
   "cell_type": "markdown",
   "id": "43945682",
   "metadata": {},
   "source": [
    "## **(b) Generating input data**"
   ]
  },
  {
   "cell_type": "markdown",
   "id": "065c27cd",
   "metadata": {},
   "source": [
    "To avoid the heavy runtime of algorithm due to linear stepping, we sample input sizes on a logarithmic grid with a ratio of around 2 to 2.5 times between consecutive n.\n",
    "\n",
    "Below code utilises `random` module to generate random sets of integers in varying sizes of array."
   ]
  },
  {
   "cell_type": "code",
   "execution_count": null,
   "id": "9a6663f5",
   "metadata": {},
   "outputs": [],
   "source": [
    "#Such spacing balance accuracy and runtime while preserving the nlogn trend with far fewer experiment\n",
    "sizes = [1_000, 2_000, 5_000, \n",
    "        10_000, 20_000, 50_000,\n",
    "        100_000, 200_000, 500_000,\n",
    "        1_000_000, 2_000_000, 5_000_000,\n",
    "        10_000_000]\n",
    "\n",
    "#here we allow the integers in the range to be from 0 to 10_000\n",
    "\n",
    "for size in sizes:\n",
    "    arr = [random.randint(0, 10**4) for _ in range(size)]\n",
    "    print(arr)\n",
    "    "
   ]
  },
  {
   "cell_type": "markdown",
   "id": "eb47ff3d",
   "metadata": {},
   "source": [
    "## **(c) Analysis of Time Complexity**"
   ]
  },
  {
   "cell_type": "markdown",
   "id": "606c88d3",
   "metadata": {},
   "source": [
    "To keep the experiement as fair as possible, we use (1) Median and (2) Mean as a comparator to compare the different conditions\n",
    "\n",
    "We report **median runtime** over mulitple trials to mitigate outliers that could potentially be caused by our computer limitations such as background apps and chaching issues\n",
    "\n",
    "For algorithm work, we report **mean key comparisons** as an estimate of the expected comparisons over random inputs."
   ]
  },
  {
   "cell_type": "code",
   "execution_count": null,
   "id": "aaa7030d",
   "metadata": {},
   "outputs": [],
   "source": [
    "# Create a tqdm progress bar\n",
    "list_ = []\n",
    "with tqdm(total=10, desc=\"Processing\") as pbar:\n",
    "    for i in range(100):\n",
    "        # Simulate some work\n",
    "        time.sleep(0.1)\n",
    "        pbar.update(1)\n",
    "\n",
    "        # Access elapsed and remaining time\n",
    "        elapsed_time = pbar.format_dict[\"elapsed\"]\n",
    "        list_.append(elapsed_time)\n",
    "        # You can print or use these values as needed\n",
    "        print(f\"Elapsed: {elapsed_time:.2f}s\")\n",
    "\n",
    "print(list_)"
   ]
  },
  {
   "cell_type": "markdown",
   "id": "20bb3890",
   "metadata": {},
   "source": [
    "### (i) Fix S, Vary N"
   ]
  },
  {
   "cell_type": "code",
   "execution_count": null,
   "id": "8afe2064",
   "metadata": {},
   "outputs": [],
   "source": [
    "# S value is fixed to be 32\n",
    "S = 32\n",
    "kc_vals_ci = []\n",
    "execution_time_ci = []\n",
    "\n",
    "for size in tqdm(sizes, desc = \"Question part ci\"):\n",
    "\n",
    "    #generate arrays\n",
    "    arr = [random.randint(0, 10**4) for _ in range(size)]\n",
    "    \n",
    "    #collect comparisons list\n",
    "    kc_vals = 0\n",
    "\n",
    "    for _ in range(3):\n",
    "\n",
    "        counter = Counter()\n",
    "        aux = [None] * size\n",
    "\n",
    "        start_time = time.perf_counter()\n",
    "        hybridSort(arr, 0, size, S, aux, counter)\n",
    "\n",
    "        end_time = time.perf_counter()\n",
    "\n",
    "        execution_time = end_time - start_time\n",
    "        execution_time_ci.append(execution_time)\n",
    "\n",
    "        kc_vals += counter.comparison\n",
    "\n",
    "    kc_average = kc_vals / 3\n",
    "    kc_vals_ci.append(kc_average)\n",
    "\n",
    "print(\"Median of Program Execution Time is \", sorted(execution_time_ci)[1])\n",
    "\n",
    "#Plot graph\n",
    "plt.figure(figsize=(10,5))\n",
    "\n",
    "plt.plot(sizes, kc_vals_ci, marker='o', label='Key Comparisons')\n",
    "plt.plot(sizes, [n * math.log2(n) for n in sizes] , linestyle='--', label='~ n log2 n reference')  # mergesort is said to have a time complexity of O(n log n)\n",
    "\n",
    "plt.xlabel('Array size (n)')\n",
    "plt.ylabel('Operation count')\n",
    "plt.title('Hybrid Sort Complexity')\n",
    "plt.legend()\n",
    "plt.grid(True)\n",
    "plt.show()"
   ]
  },
  {
   "cell_type": "markdown",
   "id": "ff15daea",
   "metadata": {},
   "source": [
    "### (ii) Fix N, Vary S"
   ]
  },
  {
   "cell_type": "code",
   "execution_count": null,
   "id": "f2fa51a1",
   "metadata": {},
   "outputs": [],
   "source": []
  },
  {
   "cell_type": "markdown",
   "id": "e4d90f4b",
   "metadata": {},
   "source": [
    "### (iii) Determining the optimal value of S"
   ]
  },
  {
   "cell_type": "code",
   "execution_count": null,
   "id": "f5ce1820",
   "metadata": {},
   "outputs": [],
   "source": []
  },
  {
   "cell_type": "markdown",
   "id": "4ba7f025",
   "metadata": {},
   "source": [
    "## **(d) Comparison with original MergeSort**"
   ]
  },
  {
   "cell_type": "markdown",
   "id": "4f8207c4",
   "metadata": {},
   "source": []
  },
  {
   "cell_type": "markdown",
   "id": "13927b0e",
   "metadata": {},
   "source": [
    "## **Conclusion**"
   ]
  }
 ],
 "metadata": {
  "kernelspec": {
   "display_name": "Python 3",
   "language": "python",
   "name": "python3"
  },
  "language_info": {
   "codemirror_mode": {
    "name": "ipython",
    "version": 3
   },
   "file_extension": ".py",
   "mimetype": "text/x-python",
   "name": "python",
   "nbconvert_exporter": "python",
   "pygments_lexer": "ipython3",
   "version": "3.11.9"
  }
 },
 "nbformat": 4,
 "nbformat_minor": 5
}
