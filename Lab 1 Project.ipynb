{
 "cells": [
  {
   "cell_type": "markdown",
   "id": "762a4da0",
   "metadata": {},
   "source": [
    "# **Project 1: Integration of Insertion Sort and Merge Sort**\n",
    "\n",
    "## Team 5\n",
    "\n",
    "| **Group Member** | **Matriculation Number** |\n",
    "|---------|-------|\n",
    "| Jyoshika Barathimogan | |\n",
    "| Kong Fook Wah | U2421655E |\n",
    "| Kris Khor Hai Xiang | |"
   ]
  },
  {
   "cell_type": "markdown",
   "id": "3ff1c644",
   "metadata": {},
   "source": [
    "## **Purpose of Project 1**\n",
    "\n",
    "This project aims to find out the optimal value of threshold S for the maximum efficiency of hybrid sort between Insertion Sort and Merge Sort. By using Insertion Sort to sort array of size less than or equals to S, the merge sort should have visble improvement in terms of the number of comparisons that need to be made to complete the sorting process."
   ]
  },
  {
   "cell_type": "markdown",
   "id": "502367b3",
   "metadata": {},
   "source": [
    "## **Sequence of build**\n",
    "\n",
    "- (a) Implementation of Hybrid Algorithm\n",
    "\n",
    "- (b) Generate arrays: n ∈{10^3 , ... 10 ^ 7}\n",
    "\n",
    "- (c) Analysis: (i) fix S, vary n, (ii) fix n, vary S\n",
    "\n",
    "- (d) Compare with pure mergesort at n = 10^7 using optimal S found in (c)\n"
   ]
  },
  {
   "cell_type": "markdown",
   "id": "65454d65",
   "metadata": {},
   "source": [
    "Library involved in the experiment\n",
    "\n",
    "| **Module** | **Purpose** |\n",
    "|--------|----------|\n",
    "| `random` | Generate arrays with random numbers |\n",
    "| `matplotlib` | Visualise the results of the experiment |"
   ]
  },
  {
   "cell_type": "markdown",
   "id": "059fcea7",
   "metadata": {},
   "source": [
    "## **Reproducibility & Constant Variable**\n",
    "\n",
    "To ensure that the environment of the experiment stays constant, we will implement random module with a constant seed, that is 42."
   ]
  },
  {
   "cell_type": "code",
   "execution_count": null,
   "id": "e61b7f33",
   "metadata": {
    "vscode": {
     "languageId": "plaintext"
    }
   },
   "outputs": [],
   "source": [
    "import random\n",
    "\n",
    "random.seed(42)"
   ]
  },
  {
   "cell_type": "markdown",
   "id": "6437fedf",
   "metadata": {},
   "source": [
    "## **(a) Algorithm Implementation**"
   ]
  },
  {
   "cell_type": "markdown",
   "id": "1aaeb4fd",
   "metadata": {},
   "source": [
    "**Insertion Sort**"
   ]
  },
  {
   "cell_type": "code",
   "execution_count": null,
   "id": "aabf3ec1",
   "metadata": {
    "vscode": {
     "languageId": "plaintext"
    }
   },
   "outputs": [],
   "source": []
  },
  {
   "cell_type": "markdown",
   "id": "f6e39370",
   "metadata": {},
   "source": [
    "**Merge Sort**"
   ]
  },
  {
   "cell_type": "code",
   "execution_count": null,
   "id": "c3399515",
   "metadata": {
    "vscode": {
     "languageId": "plaintext"
    }
   },
   "outputs": [],
   "source": []
  },
  {
   "cell_type": "markdown",
   "id": "ea8adeb5",
   "metadata": {},
   "source": [
    "**Hybrid Sort**"
   ]
  },
  {
   "cell_type": "markdown",
   "id": "eec42d0d",
   "metadata": {},
   "source": []
  },
  {
   "cell_type": "markdown",
   "id": "43945682",
   "metadata": {},
   "source": [
    "## **(b) Generating input data**"
   ]
  },
  {
   "cell_type": "code",
   "execution_count": null,
   "id": "9a6663f5",
   "metadata": {
    "vscode": {
     "languageId": "plaintext"
    }
   },
   "outputs": [],
   "source": []
  },
  {
   "cell_type": "markdown",
   "id": "eb47ff3d",
   "metadata": {},
   "source": [
    "## **(c) Analysis of Time Complexity**"
   ]
  },
  {
   "cell_type": "code",
   "execution_count": null,
   "id": "028e6d8f",
   "metadata": {
    "vscode": {
     "languageId": "plaintext"
    }
   },
   "outputs": [],
   "source": []
  },
  {
   "cell_type": "markdown",
   "id": "20bb3890",
   "metadata": {},
   "source": [
    "### (i) Fix S, Vary N"
   ]
  },
  {
   "cell_type": "code",
   "execution_count": null,
   "id": "8afe2064",
   "metadata": {
    "vscode": {
     "languageId": "plaintext"
    }
   },
   "outputs": [],
   "source": []
  },
  {
   "cell_type": "markdown",
   "id": "ff15daea",
   "metadata": {},
   "source": [
    "### (ii) Fix N, Vary S"
   ]
  },
  {
   "cell_type": "code",
   "execution_count": null,
   "id": "f2fa51a1",
   "metadata": {
    "vscode": {
     "languageId": "plaintext"
    }
   },
   "outputs": [],
   "source": []
  },
  {
   "cell_type": "markdown",
   "id": "e4d90f4b",
   "metadata": {},
   "source": [
    "### (iii) Determining the optimal value of S"
   ]
  },
  {
   "cell_type": "code",
   "execution_count": null,
   "id": "f5ce1820",
   "metadata": {
    "vscode": {
     "languageId": "plaintext"
    }
   },
   "outputs": [],
   "source": []
  },
  {
   "cell_type": "markdown",
   "id": "4ba7f025",
   "metadata": {},
   "source": [
    "## **(d) Comparison with original MergeSort**"
   ]
  },
  {
   "cell_type": "markdown",
   "id": "4f8207c4",
   "metadata": {},
   "source": []
  },
  {
   "cell_type": "markdown",
   "id": "13927b0e",
   "metadata": {},
   "source": [
    "## **Conclusion**"
   ]
  }
 ],
 "metadata": {
  "language_info": {
   "name": "python"
  }
 },
 "nbformat": 4,
 "nbformat_minor": 5
}
